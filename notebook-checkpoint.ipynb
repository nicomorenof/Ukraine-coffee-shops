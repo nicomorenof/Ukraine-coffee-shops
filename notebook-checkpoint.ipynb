{
 "cells": [
  {
   "cell_type": "markdown",
   "id": "forward-garden",
   "metadata": {
    "id": "bA5ajAmk7XH6"
   },
   "source": [
    "# DataCamp Certification Case Study\n",
    "\n",
    "### Project Brief\n",
    "\n",
    "You are on the data science team for a coffee company that is looking to expand their business into Ukraine. They want to get an understanding of the existing coffee shop market there.\n",
    "\n",
    "You have a dataset from Google businesses. It contains information about coffee shops in Ukraine. The marketing manager wants to identify the key coffee shop segments. They will use this to construct their marketing plan. In their current location, they split the market into 5 segments. The marketing manager wants to know how many segments are in this new market, and their key features.\n",
    "\n",
    "You will be presenting your findings to the Marketing Manager, who has no data science background.\n",
    "\n",
    "The data you will use for this analysis can be accessed here: `\"data/coffee_shops.csv\"`"
   ]
  },
  {
   "cell_type": "code",
   "execution_count": 1,
   "id": "hybrid-morning",
   "metadata": {
    "scrolled": true
   },
   "outputs": [],
   "source": [
    "# Use this cell to begin, and add as many cells as you need to complete your analysis!\n",
    "# The first thing we are going to do is to import all the libraries we are going to use\n",
    "import pandas as pd\n",
    "import numpy as np\n",
    "import matplotlib.pyplot as plt\n",
    "import seaborn as sns\n",
    "from sklearn.cluster import KMeans\n",
    "from sklearn.preprocessing import StandardScaler\n",
    "from sklearn.decomposition import PCA\n"
   ]
  },
  {
   "cell_type": "markdown",
   "id": "0151eb40-1f89-48c1-b9c4-4be9ee5e72ed",
   "metadata": {
    "tags": []
   },
   "source": [
    "# Data Reading"
   ]
  },
  {
   "cell_type": "markdown",
   "id": "a6db4446-6618-4428-9b84-5c8887519349",
   "metadata": {},
   "source": [
    "Now we will read the data that comes as a csv(Comma separated values) file and save it in a Dataframe"
   ]
  },
  {
   "cell_type": "code",
   "execution_count": 2,
   "id": "7a4182bc-2bdb-4271-b8e9-9f511ccc5e23",
   "metadata": {},
   "outputs": [],
   "source": [
    "df = pd.read_csv('data/coffee_shops.csv')"
   ]
  },
  {
   "cell_type": "markdown",
   "id": "8fd094ec-9d20-4a30-8bda-471b4a6eb7ad",
   "metadata": {},
   "source": [
    "Now we show some of our data that we store in our Dataframe as a Table"
   ]
  },
  {
   "cell_type": "code",
   "execution_count": 3,
   "id": "8436d664-e586-4847-8852-a6d8056ae937",
   "metadata": {},
   "outputs": [
    {
     "data": {
      "text/html": [
       "<div>\n",
       "<style scoped>\n",
       "    .dataframe tbody tr th:only-of-type {\n",
       "        vertical-align: middle;\n",
       "    }\n",
       "\n",
       "    .dataframe tbody tr th {\n",
       "        vertical-align: top;\n",
       "    }\n",
       "\n",
       "    .dataframe thead th {\n",
       "        text-align: right;\n",
       "    }\n",
       "</style>\n",
       "<table border=\"1\" class=\"dataframe\">\n",
       "  <thead>\n",
       "    <tr style=\"text-align: right;\">\n",
       "      <th></th>\n",
       "      <th>Region</th>\n",
       "      <th>Place name</th>\n",
       "      <th>Place type</th>\n",
       "      <th>Rating</th>\n",
       "      <th>Reviews</th>\n",
       "      <th>Price</th>\n",
       "      <th>Delivery option</th>\n",
       "      <th>Dine in option</th>\n",
       "      <th>Takeout option</th>\n",
       "    </tr>\n",
       "  </thead>\n",
       "  <tbody>\n",
       "    <tr>\n",
       "      <th>0</th>\n",
       "      <td>Mariupol</td>\n",
       "      <td>Dim Kavu</td>\n",
       "      <td>Coffee store</td>\n",
       "      <td>4.6</td>\n",
       "      <td>206.0</td>\n",
       "      <td>NaN</td>\n",
       "      <td>NaN</td>\n",
       "      <td>NaN</td>\n",
       "      <td>NaN</td>\n",
       "    </tr>\n",
       "    <tr>\n",
       "      <th>1</th>\n",
       "      <td>Mariupol</td>\n",
       "      <td>Коферум</td>\n",
       "      <td>Cafe</td>\n",
       "      <td>5.0</td>\n",
       "      <td>24.0</td>\n",
       "      <td>$$</td>\n",
       "      <td>False</td>\n",
       "      <td>NaN</td>\n",
       "      <td>True</td>\n",
       "    </tr>\n",
       "    <tr>\n",
       "      <th>2</th>\n",
       "      <td>Mariupol</td>\n",
       "      <td>Кофейня Світ Чаю</td>\n",
       "      <td>Coffee shop</td>\n",
       "      <td>5.0</td>\n",
       "      <td>11.0</td>\n",
       "      <td>NaN</td>\n",
       "      <td>NaN</td>\n",
       "      <td>NaN</td>\n",
       "      <td>True</td>\n",
       "    </tr>\n",
       "    <tr>\n",
       "      <th>3</th>\n",
       "      <td>Mariupol</td>\n",
       "      <td>Кофейня Starcoff</td>\n",
       "      <td>Coffee shop</td>\n",
       "      <td>4.4</td>\n",
       "      <td>331.0</td>\n",
       "      <td>$$</td>\n",
       "      <td>False</td>\n",
       "      <td>True</td>\n",
       "      <td>True</td>\n",
       "    </tr>\n",
       "    <tr>\n",
       "      <th>4</th>\n",
       "      <td>Mariupol</td>\n",
       "      <td>Кофейня \"Friend Zone\"</td>\n",
       "      <td>Coffee shop</td>\n",
       "      <td>5.0</td>\n",
       "      <td>12.0</td>\n",
       "      <td>NaN</td>\n",
       "      <td>NaN</td>\n",
       "      <td>True</td>\n",
       "      <td>True</td>\n",
       "    </tr>\n",
       "  </tbody>\n",
       "</table>\n",
       "</div>"
      ],
      "text/plain": [
       "     Region             Place name    Place type  Rating  Reviews Price  \\\n",
       "0  Mariupol               Dim Kavu  Coffee store     4.6    206.0   NaN   \n",
       "1  Mariupol                Коферум          Cafe     5.0     24.0    $$   \n",
       "2  Mariupol       Кофейня Світ Чаю   Coffee shop     5.0     11.0   NaN   \n",
       "3  Mariupol       Кофейня Starcoff   Coffee shop     4.4    331.0    $$   \n",
       "4  Mariupol  Кофейня \"Friend Zone\"   Coffee shop     5.0     12.0   NaN   \n",
       "\n",
       "  Delivery option Dine in option Takeout option  \n",
       "0             NaN            NaN            NaN  \n",
       "1           False            NaN           True  \n",
       "2             NaN            NaN           True  \n",
       "3           False           True           True  \n",
       "4             NaN           True           True  "
      ]
     },
     "execution_count": 3,
     "metadata": {},
     "output_type": "execute_result"
    }
   ],
   "source": [
    "df.head()"
   ]
  },
  {
   "cell_type": "markdown",
   "id": "2b457c89-024b-4ff9-9bbe-277f7369cedc",
   "metadata": {},
   "source": [
    "Next we will call the info function so have a basic description of our variables"
   ]
  },
  {
   "cell_type": "code",
   "execution_count": 4,
   "id": "06fce77e-12f3-4eb8-8cb2-5861784c4d93",
   "metadata": {},
   "outputs": [
    {
     "name": "stdout",
     "output_type": "stream",
     "text": [
      "<class 'pandas.core.frame.DataFrame'>\n",
      "RangeIndex: 200 entries, 0 to 199\n",
      "Data columns (total 9 columns):\n",
      " #   Column           Non-Null Count  Dtype  \n",
      "---  ------           --------------  -----  \n",
      " 0   Region           200 non-null    object \n",
      " 1   Place name       200 non-null    object \n",
      " 2   Place type       200 non-null    object \n",
      " 3   Rating           198 non-null    float64\n",
      " 4   Reviews          198 non-null    float64\n",
      " 5   Price            122 non-null    object \n",
      " 6   Delivery option  129 non-null    object \n",
      " 7   Dine in option   140 non-null    object \n",
      " 8   Takeout option   144 non-null    object \n",
      "dtypes: float64(2), object(7)\n",
      "memory usage: 14.2+ KB\n"
     ]
    }
   ],
   "source": [
    "df.info()"
   ]
  },
  {
   "cell_type": "markdown",
   "id": "5ba4b028-2154-4f2b-bb3d-129aaf3756c0",
   "metadata": {},
   "source": [
    "We can see that:\n",
    " - There are 9 variables\n",
    " - Only 2 of them are number type variables\n",
    " - Not all of them have the data complete(null values)\n",
    " "
   ]
  },
  {
   "cell_type": "markdown",
   "id": "e7bc6449-f843-43c4-b498-af0ce2b149bc",
   "metadata": {},
   "source": [
    "## Missing Data"
   ]
  },
  {
   "cell_type": "markdown",
   "id": "dedfbded-7499-4760-b9f5-6f2a0e0142a2",
   "metadata": {},
   "source": [
    "As we saw with the info function there is a lot of missing data in our dataset so we are going to explore this more deeply"
   ]
  },
  {
   "cell_type": "code",
   "execution_count": 5,
   "id": "50a31be4-2bbc-4984-b44a-b56160bd9547",
   "metadata": {},
   "outputs": [
    {
     "data": {
      "text/plain": [
       "Region              0\n",
       "Place name          0\n",
       "Place type          0\n",
       "Rating              2\n",
       "Reviews             2\n",
       "Price              78\n",
       "Delivery option    71\n",
       "Dine in option     60\n",
       "Takeout option     56\n",
       "dtype: int64"
      ]
     },
     "execution_count": 5,
     "metadata": {},
     "output_type": "execute_result"
    }
   ],
   "source": [
    "df.isnull().sum()"
   ]
  },
  {
   "cell_type": "markdown",
   "id": "83cbcdee-767c-4bd8-9cd1-760c9e75f74b",
   "metadata": {},
   "source": [
    "We see that there are only 2 missing values in both Rating and Reviews an as they are number type variables it is usualy a good idea to replace these with the mean of the column"
   ]
  },
  {
   "cell_type": "code",
   "execution_count": 6,
   "id": "63f2f284-43d6-45ce-b84d-7c1d0fe511e1",
   "metadata": {},
   "outputs": [],
   "source": [
    "df['Rating'] = df['Rating'].fillna(df['Rating'].mean())\n",
    "df['Reviews'] = df['Reviews'].fillna(df['Reviews'].mean())"
   ]
  },
  {
   "cell_type": "markdown",
   "id": "6d69314c-58cb-4f2f-969a-aadcaa2dfd68",
   "metadata": {},
   "source": [
    "We will continue now with the price variable"
   ]
  },
  {
   "cell_type": "code",
   "execution_count": 7,
   "id": "bf94f14a-97a6-44e7-b9ee-a3e8c69a2dd2",
   "metadata": {},
   "outputs": [
    {
     "data": {
      "text/plain": [
       "$$     116\n",
       "$$$      4\n",
       "$        2\n",
       "Name: Price, dtype: int64"
      ]
     },
     "execution_count": 7,
     "metadata": {},
     "output_type": "execute_result"
    }
   ],
   "source": [
    "df.Price.value_counts()"
   ]
  },
  {
   "cell_type": "markdown",
   "id": "81d89450-60b6-49f8-8f7b-0ff8f89b9410",
   "metadata": {},
   "source": [
    "Price variable\n",
    " - We see that there are 78 missing values which is almost half of them\n",
    " - Of the non-null values we see that 116 are $$ that means that is nor cheap or expensive but in the middle range\n",
    " \n",
    " \n",
    " After seeing this we can assume that the price variable does not give us enought information so we can eliminate it from our data\n"
   ]
  },
  {
   "cell_type": "code",
   "execution_count": 8,
   "id": "fd2adf6f-2a10-4a2d-a6dd-a7501bd538f5",
   "metadata": {},
   "outputs": [],
   "source": [
    "df = df.drop(['Price'],axis=1)"
   ]
  },
  {
   "cell_type": "markdown",
   "id": "cd612b44-38ef-4c51-9209-30293e702672",
   "metadata": {},
   "source": [
    "Now we are going to examinate the other variables that have null values"
   ]
  },
  {
   "cell_type": "code",
   "execution_count": 9,
   "id": "017f3d2b-1f08-436c-b498-143a9a3ec302",
   "metadata": {},
   "outputs": [
    {
     "data": {
      "text/plain": [
       "False    94\n",
       "True     35\n",
       "Name: Delivery option, dtype: int64"
      ]
     },
     "execution_count": 9,
     "metadata": {},
     "output_type": "execute_result"
    }
   ],
   "source": [
    "df['Delivery option'].value_counts()"
   ]
  },
  {
   "cell_type": "code",
   "execution_count": 10,
   "id": "70e66d60-53b8-4714-87c8-d6b9ac2548d5",
   "metadata": {},
   "outputs": [
    {
     "data": {
      "text/plain": [
       "True    140\n",
       "Name: Dine in option, dtype: int64"
      ]
     },
     "execution_count": 10,
     "metadata": {},
     "output_type": "execute_result"
    }
   ],
   "source": [
    "df['Dine in option'].value_counts()"
   ]
  },
  {
   "cell_type": "code",
   "execution_count": 11,
   "id": "66acbc44-99d2-4551-9ef0-9a23c8f55bba",
   "metadata": {},
   "outputs": [
    {
     "data": {
      "text/plain": [
       "True    144\n",
       "Name: Takeout option, dtype: int64"
      ]
     },
     "execution_count": 11,
     "metadata": {},
     "output_type": "execute_result"
    }
   ],
   "source": [
    "df['Takeout option'].value_counts()"
   ]
  },
  {
   "cell_type": "markdown",
   "id": "a728c98f-9a1f-48e9-9c9f-228f7816e3c9",
   "metadata": {},
   "source": [
    "We see that both 'Takeout option' and 'Dine in option' have only True values so we can safely asume that the NaN values refer to the False"
   ]
  },
  {
   "cell_type": "markdown",
   "id": "50cda577-13e7-4fd7-afd3-6dbc9d27b2dc",
   "metadata": {},
   "source": [
    "The last variable with null values will be Delivery option as it already have True and False values we cannot safely asume that all the null values are True or False so we are going to create a new type called unknown"
   ]
  },
  {
   "cell_type": "code",
   "execution_count": 12,
   "id": "af01ae9b-0604-484c-b580-46682cf55a50",
   "metadata": {},
   "outputs": [],
   "source": [
    "df['Dine in option']= df['Dine in option'].fillna(False)\n",
    "df['Takeout option']= df['Takeout option'].fillna(False)\n",
    "df['Delivery option']= df['Delivery option'].fillna('unknown')"
   ]
  },
  {
   "cell_type": "code",
   "execution_count": 13,
   "id": "3d3af07f-f9ad-49dd-9c11-45d4e3d4de61",
   "metadata": {},
   "outputs": [
    {
     "data": {
      "text/plain": [
       "Region             0\n",
       "Place name         0\n",
       "Place type         0\n",
       "Rating             0\n",
       "Reviews            0\n",
       "Delivery option    0\n",
       "Dine in option     0\n",
       "Takeout option     0\n",
       "dtype: int64"
      ]
     },
     "execution_count": 13,
     "metadata": {},
     "output_type": "execute_result"
    }
   ],
   "source": [
    "df.isnull().sum()"
   ]
  },
  {
   "cell_type": "markdown",
   "id": "2af9839c-3bb5-4728-9078-99276d28865b",
   "metadata": {},
   "source": [
    "Now that we don't have null values we can continue"
   ]
  },
  {
   "cell_type": "markdown",
   "id": "530a6cda-e57a-4161-8c20-3c267a1b0035",
   "metadata": {},
   "source": [
    "## Object variables"
   ]
  },
  {
   "cell_type": "markdown",
   "id": "5d406c2b-1fbe-436e-add9-369adf2daf4c",
   "metadata": {},
   "source": [
    "Now we are going to check the rest of the object variables to see that all data is correct"
   ]
  },
  {
   "cell_type": "markdown",
   "id": "74c8246b-bde8-41c9-82fa-c806868867cd",
   "metadata": {},
   "source": [
    "As we are checking for text we are going to change some variables into lower cases to avoid future problems"
   ]
  },
  {
   "cell_type": "code",
   "execution_count": 14,
   "id": "0fdd6190-e88d-4ded-9334-54e1713adafe",
   "metadata": {},
   "outputs": [],
   "source": [
    "df['Place name'] = df['Place name'].str.lower()\n",
    "df['Place type'] = df['Place type'].str.lower()"
   ]
  },
  {
   "cell_type": "code",
   "execution_count": 15,
   "id": "0c96e2a6-617a-4c53-879e-06c52609d000",
   "metadata": {},
   "outputs": [
    {
     "data": {
      "text/plain": [
       "coffee shop                 97\n",
       "cafe                        58\n",
       "espresso bar                20\n",
       "coffee store                11\n",
       "store                        3\n",
       "coffee roasters              2\n",
       "pastry shop                  2\n",
       "restaurant                   1\n",
       "internet shop                1\n",
       "appliance repair service     1\n",
       "chocolate shop               1\n",
       "european restaurant          1\n",
       "e-commerce service           1\n",
       "coffee stand                 1\n",
       "Name: Place type, dtype: int64"
      ]
     },
     "execution_count": 15,
     "metadata": {},
     "output_type": "execute_result"
    }
   ],
   "source": [
    "df['Place type'].value_counts()"
   ]
  },
  {
   "cell_type": "code",
   "execution_count": 16,
   "id": "859b4f76-596e-4ecb-9958-4ca819ba8a56",
   "metadata": {},
   "outputs": [
    {
     "data": {
      "text/plain": [
       "coffee house             7\n",
       "dim kavy                 4\n",
       "svit kavy                3\n",
       "my coffee                2\n",
       "sv кафе                  2\n",
       "                        ..\n",
       "coffeepot                1\n",
       "кофейня \"friend zone\"    1\n",
       "kava u shafi             1\n",
       "кофе с совой             1\n",
       "prostir.coffee таврик    1\n",
       "Name: Place name, Length: 183, dtype: int64"
      ]
     },
     "execution_count": 16,
     "metadata": {},
     "output_type": "execute_result"
    }
   ],
   "source": [
    "df['Place name'].value_counts()"
   ]
  },
  {
   "cell_type": "markdown",
   "id": "da66895f-88fe-4ff4-acbb-778be3b918a9",
   "metadata": {},
   "source": [
    "Now that we transformed all values into lower case we can be sure that there are not values that depend on any upper case letter "
   ]
  },
  {
   "cell_type": "code",
   "execution_count": 17,
   "id": "b3186f29-25eb-479f-87ec-3f145ba238d3",
   "metadata": {},
   "outputs": [
    {
     "data": {
      "text/plain": [
       "Dnipro         20\n",
       "Odessa         20\n",
       "Poltava        20\n",
       "Kiev           20\n",
       "Lviv           20\n",
       "Khrivoy Rog    20\n",
       "Mariupol       20\n",
       "Zaporozhye     20\n",
       "Kharkiv        20\n",
       "Kherson        20\n",
       "Name: Region, dtype: int64"
      ]
     },
     "execution_count": 17,
     "metadata": {},
     "output_type": "execute_result"
    }
   ],
   "source": [
    "df.Region.value_counts()"
   ]
  },
  {
   "cell_type": "markdown",
   "id": "6d40a9db-4ae3-47ad-9007-64e94e7e672f",
   "metadata": {},
   "source": [
    "We can clearly see that there are 20 coffe shops per Region"
   ]
  },
  {
   "cell_type": "markdown",
   "id": "20dd1748-437c-4662-8ad7-4324af9abec7",
   "metadata": {},
   "source": [
    "## Duplicated"
   ]
  },
  {
   "cell_type": "code",
   "execution_count": 18,
   "id": "75687e2e-a9b9-4e92-a36f-e3058c6cdc8f",
   "metadata": {},
   "outputs": [
    {
     "data": {
      "text/plain": [
       "(0, 8)"
      ]
     },
     "execution_count": 18,
     "metadata": {},
     "output_type": "execute_result"
    }
   ],
   "source": [
    "df[df.duplicated()].shape"
   ]
  },
  {
   "cell_type": "markdown",
   "id": "7dd08bbf-a59e-433c-a190-eb7ba1113a6d",
   "metadata": {},
   "source": [
    "We see that there are no duplicated rows so we will continue our analysis"
   ]
  },
  {
   "cell_type": "markdown",
   "id": "12d05f3a-6e56-4373-aa0a-451487d74ecc",
   "metadata": {},
   "source": [
    "# Summary"
   ]
  },
  {
   "cell_type": "markdown",
   "id": "535ccdf3-bd6e-4dbe-b4b2-fdb1dc368f37",
   "metadata": {},
   "source": [
    "Before we continue we are going to show again our data to see everything is alright"
   ]
  },
  {
   "cell_type": "code",
   "execution_count": 19,
   "id": "52102430-0b11-4fed-b114-abce687a6012",
   "metadata": {},
   "outputs": [
    {
     "data": {
      "text/html": [
       "<div>\n",
       "<style scoped>\n",
       "    .dataframe tbody tr th:only-of-type {\n",
       "        vertical-align: middle;\n",
       "    }\n",
       "\n",
       "    .dataframe tbody tr th {\n",
       "        vertical-align: top;\n",
       "    }\n",
       "\n",
       "    .dataframe thead th {\n",
       "        text-align: right;\n",
       "    }\n",
       "</style>\n",
       "<table border=\"1\" class=\"dataframe\">\n",
       "  <thead>\n",
       "    <tr style=\"text-align: right;\">\n",
       "      <th></th>\n",
       "      <th>Region</th>\n",
       "      <th>Place name</th>\n",
       "      <th>Place type</th>\n",
       "      <th>Rating</th>\n",
       "      <th>Reviews</th>\n",
       "      <th>Delivery option</th>\n",
       "      <th>Dine in option</th>\n",
       "      <th>Takeout option</th>\n",
       "    </tr>\n",
       "  </thead>\n",
       "  <tbody>\n",
       "    <tr>\n",
       "      <th>0</th>\n",
       "      <td>Mariupol</td>\n",
       "      <td>dim kavu</td>\n",
       "      <td>coffee store</td>\n",
       "      <td>4.6</td>\n",
       "      <td>206.0</td>\n",
       "      <td>unknown</td>\n",
       "      <td>False</td>\n",
       "      <td>False</td>\n",
       "    </tr>\n",
       "    <tr>\n",
       "      <th>1</th>\n",
       "      <td>Mariupol</td>\n",
       "      <td>коферум</td>\n",
       "      <td>cafe</td>\n",
       "      <td>5.0</td>\n",
       "      <td>24.0</td>\n",
       "      <td>False</td>\n",
       "      <td>False</td>\n",
       "      <td>True</td>\n",
       "    </tr>\n",
       "    <tr>\n",
       "      <th>2</th>\n",
       "      <td>Mariupol</td>\n",
       "      <td>кофейня світ чаю</td>\n",
       "      <td>coffee shop</td>\n",
       "      <td>5.0</td>\n",
       "      <td>11.0</td>\n",
       "      <td>unknown</td>\n",
       "      <td>False</td>\n",
       "      <td>True</td>\n",
       "    </tr>\n",
       "    <tr>\n",
       "      <th>3</th>\n",
       "      <td>Mariupol</td>\n",
       "      <td>кофейня starcoff</td>\n",
       "      <td>coffee shop</td>\n",
       "      <td>4.4</td>\n",
       "      <td>331.0</td>\n",
       "      <td>False</td>\n",
       "      <td>True</td>\n",
       "      <td>True</td>\n",
       "    </tr>\n",
       "    <tr>\n",
       "      <th>4</th>\n",
       "      <td>Mariupol</td>\n",
       "      <td>кофейня \"friend zone\"</td>\n",
       "      <td>coffee shop</td>\n",
       "      <td>5.0</td>\n",
       "      <td>12.0</td>\n",
       "      <td>unknown</td>\n",
       "      <td>True</td>\n",
       "      <td>True</td>\n",
       "    </tr>\n",
       "  </tbody>\n",
       "</table>\n",
       "</div>"
      ],
      "text/plain": [
       "     Region             Place name    Place type  Rating  Reviews  \\\n",
       "0  Mariupol               dim kavu  coffee store     4.6    206.0   \n",
       "1  Mariupol                коферум          cafe     5.0     24.0   \n",
       "2  Mariupol       кофейня світ чаю   coffee shop     5.0     11.0   \n",
       "3  Mariupol       кофейня starcoff   coffee shop     4.4    331.0   \n",
       "4  Mariupol  кофейня \"friend zone\"   coffee shop     5.0     12.0   \n",
       "\n",
       "  Delivery option  Dine in option  Takeout option  \n",
       "0         unknown           False           False  \n",
       "1           False           False            True  \n",
       "2         unknown           False            True  \n",
       "3           False            True            True  \n",
       "4         unknown            True            True  "
      ]
     },
     "execution_count": 19,
     "metadata": {},
     "output_type": "execute_result"
    }
   ],
   "source": [
    "df.head()"
   ]
  },
  {
   "cell_type": "code",
   "execution_count": 20,
   "id": "13c9bfa2-4580-4c7b-9a4d-9fbbb36c2eac",
   "metadata": {},
   "outputs": [
    {
     "name": "stdout",
     "output_type": "stream",
     "text": [
      "<class 'pandas.core.frame.DataFrame'>\n",
      "RangeIndex: 200 entries, 0 to 199\n",
      "Data columns (total 8 columns):\n",
      " #   Column           Non-Null Count  Dtype  \n",
      "---  ------           --------------  -----  \n",
      " 0   Region           200 non-null    object \n",
      " 1   Place name       200 non-null    object \n",
      " 2   Place type       200 non-null    object \n",
      " 3   Rating           200 non-null    float64\n",
      " 4   Reviews          200 non-null    float64\n",
      " 5   Delivery option  200 non-null    object \n",
      " 6   Dine in option   200 non-null    bool   \n",
      " 7   Takeout option   200 non-null    bool   \n",
      "dtypes: bool(2), float64(2), object(4)\n",
      "memory usage: 9.9+ KB\n"
     ]
    }
   ],
   "source": [
    "df.info()"
   ]
  },
  {
   "cell_type": "markdown",
   "id": "aa54c829-502b-4690-8751-45cae722292d",
   "metadata": {},
   "source": [
    "We see that there are now 2 boolean variables, this is because this variables can only take 2 values ( True or False ) "
   ]
  },
  {
   "cell_type": "code",
   "execution_count": 21,
   "id": "7e75847b-0713-4025-bdad-ec27b8c1b6a7",
   "metadata": {},
   "outputs": [
    {
     "data": {
      "text/html": [
       "<div>\n",
       "<style scoped>\n",
       "    .dataframe tbody tr th:only-of-type {\n",
       "        vertical-align: middle;\n",
       "    }\n",
       "\n",
       "    .dataframe tbody tr th {\n",
       "        vertical-align: top;\n",
       "    }\n",
       "\n",
       "    .dataframe thead th {\n",
       "        text-align: right;\n",
       "    }\n",
       "</style>\n",
       "<table border=\"1\" class=\"dataframe\">\n",
       "  <thead>\n",
       "    <tr style=\"text-align: right;\">\n",
       "      <th></th>\n",
       "      <th>Rating</th>\n",
       "      <th>Reviews</th>\n",
       "    </tr>\n",
       "  </thead>\n",
       "  <tbody>\n",
       "    <tr>\n",
       "      <th>count</th>\n",
       "      <td>200.000000</td>\n",
       "      <td>200.000000</td>\n",
       "    </tr>\n",
       "    <tr>\n",
       "      <th>mean</th>\n",
       "      <td>4.663636</td>\n",
       "      <td>622.494949</td>\n",
       "    </tr>\n",
       "    <tr>\n",
       "      <th>std</th>\n",
       "      <td>0.220531</td>\n",
       "      <td>1393.841198</td>\n",
       "    </tr>\n",
       "    <tr>\n",
       "      <th>min</th>\n",
       "      <td>3.900000</td>\n",
       "      <td>3.000000</td>\n",
       "    </tr>\n",
       "    <tr>\n",
       "      <th>25%</th>\n",
       "      <td>4.600000</td>\n",
       "      <td>48.500000</td>\n",
       "    </tr>\n",
       "    <tr>\n",
       "      <th>50%</th>\n",
       "      <td>4.700000</td>\n",
       "      <td>277.000000</td>\n",
       "    </tr>\n",
       "    <tr>\n",
       "      <th>75%</th>\n",
       "      <td>4.800000</td>\n",
       "      <td>780.750000</td>\n",
       "    </tr>\n",
       "    <tr>\n",
       "      <th>max</th>\n",
       "      <td>5.000000</td>\n",
       "      <td>17937.000000</td>\n",
       "    </tr>\n",
       "  </tbody>\n",
       "</table>\n",
       "</div>"
      ],
      "text/plain": [
       "           Rating       Reviews\n",
       "count  200.000000    200.000000\n",
       "mean     4.663636    622.494949\n",
       "std      0.220531   1393.841198\n",
       "min      3.900000      3.000000\n",
       "25%      4.600000     48.500000\n",
       "50%      4.700000    277.000000\n",
       "75%      4.800000    780.750000\n",
       "max      5.000000  17937.000000"
      ]
     },
     "execution_count": 21,
     "metadata": {},
     "output_type": "execute_result"
    }
   ],
   "source": [
    "df.describe()"
   ]
  },
  {
   "cell_type": "markdown",
   "id": "0c96e37d-e606-48b4-85d6-ca06fbd0dc93",
   "metadata": {},
   "source": [
    "From the numeric variables we can see that \n",
    " - The ratings go from 3.9 up to 5 with a low standard deviation of 0.22\n",
    " - The reviews variable that gives us the numer of reviews made go from 3 to 17937, this can suggest that the maximum number can be a outlier"
   ]
  },
  {
   "cell_type": "code",
   "execution_count": 22,
   "id": "52b5b0ab-cf64-4b99-86a5-16778dba375b",
   "metadata": {},
   "outputs": [
    {
     "data": {
      "text/html": [
       "<div>\n",
       "<style scoped>\n",
       "    .dataframe tbody tr th:only-of-type {\n",
       "        vertical-align: middle;\n",
       "    }\n",
       "\n",
       "    .dataframe tbody tr th {\n",
       "        vertical-align: top;\n",
       "    }\n",
       "\n",
       "    .dataframe thead th {\n",
       "        text-align: right;\n",
       "    }\n",
       "</style>\n",
       "<table border=\"1\" class=\"dataframe\">\n",
       "  <thead>\n",
       "    <tr style=\"text-align: right;\">\n",
       "      <th></th>\n",
       "      <th>Region</th>\n",
       "      <th>Place name</th>\n",
       "      <th>Place type</th>\n",
       "      <th>Delivery option</th>\n",
       "    </tr>\n",
       "  </thead>\n",
       "  <tbody>\n",
       "    <tr>\n",
       "      <th>count</th>\n",
       "      <td>200</td>\n",
       "      <td>200</td>\n",
       "      <td>200</td>\n",
       "      <td>200</td>\n",
       "    </tr>\n",
       "    <tr>\n",
       "      <th>unique</th>\n",
       "      <td>10</td>\n",
       "      <td>183</td>\n",
       "      <td>14</td>\n",
       "      <td>3</td>\n",
       "    </tr>\n",
       "    <tr>\n",
       "      <th>top</th>\n",
       "      <td>Dnipro</td>\n",
       "      <td>coffee house</td>\n",
       "      <td>coffee shop</td>\n",
       "      <td>False</td>\n",
       "    </tr>\n",
       "    <tr>\n",
       "      <th>freq</th>\n",
       "      <td>20</td>\n",
       "      <td>7</td>\n",
       "      <td>97</td>\n",
       "      <td>94</td>\n",
       "    </tr>\n",
       "  </tbody>\n",
       "</table>\n",
       "</div>"
      ],
      "text/plain": [
       "        Region    Place name   Place type Delivery option\n",
       "count      200           200          200             200\n",
       "unique      10           183           14               3\n",
       "top     Dnipro  coffee house  coffee shop           False\n",
       "freq        20             7           97              94"
      ]
     },
     "execution_count": 22,
     "metadata": {},
     "output_type": "execute_result"
    }
   ],
   "source": [
    "df.describe(include='object')"
   ]
  },
  {
   "cell_type": "markdown",
   "id": "60f6eb89-a6b8-4b68-a899-d5eea5f7dfac",
   "metadata": {},
   "source": [
    "From the object variables we see that\n",
    " - There are 10 unique regions an we saw earlier they appear 20 times each\n",
    " - There are a lot of different place names but they all does not have a different name so it means that there are some shops that have the same name but can be in an other region or be a different type of shop\n",
    " - We also see that there are 14 types of place types and almost half of them are a coffee shop\n",
    " - Finally as we saw earlier the delivery option variable has 3 different values and now we know that the most frequent thing is that they doesn't have a delivery option"
   ]
  },
  {
   "cell_type": "markdown",
   "id": "40a9fe2d-f652-433a-a498-83cb052af0fe",
   "metadata": {
    "tags": []
   },
   "source": [
    "# Graphics"
   ]
  },
  {
   "cell_type": "markdown",
   "id": "93d8b3b5-15bb-4133-95b7-680a95b2cae6",
   "metadata": {},
   "source": [
    "We will continue our analysis with some graphics"
   ]
  },
  {
   "cell_type": "markdown",
   "id": "08588420-9fec-4c24-9bda-ed6c0c2012cd",
   "metadata": {
    "tags": []
   },
   "source": [
    "## Boxplots"
   ]
  },
  {
   "cell_type": "code",
   "execution_count": 23,
   "id": "79672bf2-e3ae-4f1e-999b-75c25ef27924",
   "metadata": {
    "tags": []
   },
   "outputs": [
    {
     "data": {
      "image/png": "[encoded data removed]",
      "text/plain": [
       "<Figure size 432x288 with 1 Axes>"
      ]
     },
     "metadata": {
      "needs_background": "light"
     },
     "output_type": "display_data"
    }
   ],
   "source": [
    "sns.boxplot(data = df['Reviews'])\n",
    "plt.xlabel('Reviews')\n",
    "plt.ylabel('Count')\n",
    "plt.show()"
   ]
  },
  {
   "cell_type": "markdown",
   "id": "735e409a-a407-42ae-b3f3-4e0504e41802",
   "metadata": {},
   "source": [
    "As seen in the describe function table there was a very high number of reviews for a shop and now we can confirm it was a extreme outlier, we will take care of this outlier later as outliers afffect greatly the kmeans model that we are going to use"
   ]
  },
  {
   "cell_type": "code",
   "execution_count": 24,
   "id": "195a170c-7d5c-4922-89f7-d74cb9a6e972",
   "metadata": {},
   "outputs": [
    {
     "data": {
      "image/png": "[encoded data removed]",
      "text/plain": [
       "<Figure size 432x288 with 1 Axes>"
      ]
     },
     "metadata": {
      "needs_background": "light"
     },
     "output_type": "display_data"
    }
   ],
   "source": [
    "sns.boxplot(data = df['Rating'])\n",
    "plt.xlabel('Rating')\n",
    "plt.ylabel('Count')\n",
    "plt.show()"
   ]
  },
  {
   "cell_type": "markdown",
   "id": "5caed32d-9b32-4214-bfc4-105f62cf0474",
   "metadata": {},
   "source": [
    "From the other numeric variable 'Rating' we see that there are only 4 outliers but they are very close to mean"
   ]
  },
  {
   "cell_type": "code",
   "execution_count": 25,
   "id": "e80c9893-e7b1-4c42-8278-b7285f2549c4",
   "metadata": {},
   "outputs": [],
   "source": [
    "X_cuants = df[['Rating','Reviews']].copy()"
   ]
  },
  {
   "cell_type": "markdown",
   "id": "f81aa51c-fc65-4bf8-b618-9fbcf1af259a",
   "metadata": {},
   "source": [
    "We are now going to show the distributions of both of our numeric variables"
   ]
  },
  {
   "cell_type": "code",
   "execution_count": 26,
   "id": "117baeee-c873-4101-bcee-6ddc52e39074",
   "metadata": {},
   "outputs": [
    {
     "data": {
      "image/png": "[encoded data removed]",
      "text/plain": [
       "<Figure size 1296x1440 with 2 Axes>"
      ]
     },
     "metadata": {
      "needs_background": "light"
     },
     "output_type": "display_data"
    }
   ],
   "source": [
    "plt.figure(figsize=(18,20))\n",
    "n = 0\n",
    "for i, column in enumerate(X_cuants.columns):\n",
    "    n+=1\n",
    "    plt.subplot(4, 4, n)\n",
    "    sns.distplot(X_cuants[column])\n",
    "    plt.title('Distribución var {}'.format(column))\n",
    "plt.show()"
   ]
  },
  {
   "cell_type": "markdown",
   "id": "0d0b95a3-2bd4-41d3-b504-4363fb89f65c",
   "metadata": {},
   "source": [
    "We see that our distributions are skewed, this might be affected by the outliers so wee will check that"
   ]
  },
  {
   "cell_type": "code",
   "execution_count": 27,
   "id": "6f0abc40-84f8-4157-9061-aba1732974ba",
   "metadata": {},
   "outputs": [],
   "source": [
    "categorical_var = ['Place type','Delivery option','Dine in option','Takeout option']"
   ]
  },
  {
   "cell_type": "code",
   "execution_count": 29,
   "id": "a458e031-2ad9-4da2-81c1-d36a4570c7f2",
   "metadata": {},
   "outputs": [
    {
     "data": {
      "text/plain": [
       "4"
      ]
     },
     "execution_count": 29,
     "metadata": {},
     "output_type": "execute_result"
    }
   ],
   "source": [
    "len(categorical_var)"
   ]
  },
  {
   "cell_type": "markdown",
   "id": "c3a3a0c6-3858-4284-9cfd-b10c0bcb5168",
   "metadata": {},
   "source": [
    "And know our categorical variables"
   ]
  },
  {
   "cell_type": "code",
   "execution_count": 28,
   "id": "732fc36e-7b05-4075-829d-68d9d5fb6a49",
   "metadata": {},
   "outputs": [
    {
     "ename": "TypeError",
     "evalue": "'int' object is not iterable",
     "output_type": "error",
     "traceback": [
      "\u001b[0;31m---------------------------------------------------------------------------\u001b[0m",
      "\u001b[0;31mTypeError\u001b[0m                                 Traceback (most recent call last)",
      "\u001b[0;32m/tmp/ipykernel_3335/2685237832.py\u001b[0m in \u001b[0;36m<module>\u001b[0;34m\u001b[0m\n\u001b[1;32m      2\u001b[0m \u001b[0mplt\u001b[0m\u001b[0;34m.\u001b[0m\u001b[0msubplots_adjust\u001b[0m\u001b[0;34m(\u001b[0m\u001b[0mhspace\u001b[0m\u001b[0;34m=\u001b[0m\u001b[0;36m0.2\u001b[0m\u001b[0;34m,\u001b[0m \u001b[0mwspace\u001b[0m\u001b[0;34m=\u001b[0m\u001b[0;36m0.3\u001b[0m\u001b[0;34m)\u001b[0m\u001b[0;34m\u001b[0m\u001b[0;34m\u001b[0m\u001b[0m\n\u001b[1;32m      3\u001b[0m \u001b[0mp\u001b[0m\u001b[0;34m=\u001b[0m\u001b[0;36m0\u001b[0m\u001b[0;34m\u001b[0m\u001b[0;34m\u001b[0m\u001b[0m\n\u001b[0;32m----> 4\u001b[0;31m \u001b[0;32mfor\u001b[0m \u001b[0mi\u001b[0m \u001b[0;32min\u001b[0m \u001b[0mlen\u001b[0m\u001b[0;34m(\u001b[0m\u001b[0mcategorical_var\u001b[0m\u001b[0;34m)\u001b[0m\u001b[0;34m:\u001b[0m\u001b[0;34m\u001b[0m\u001b[0;34m\u001b[0m\u001b[0m\n\u001b[0m\u001b[1;32m      5\u001b[0m     \u001b[0mplt\u001b[0m\u001b[0;34m.\u001b[0m\u001b[0msubplot\u001b[0m\u001b[0;34m(\u001b[0m\u001b[0;36m3\u001b[0m\u001b[0;34m,\u001b[0m \u001b[0;36m2\u001b[0m\u001b[0;34m,\u001b[0m \u001b[0mi\u001b[0m\u001b[0;34m+\u001b[0m\u001b[0;36m1\u001b[0m\u001b[0;34m)\u001b[0m\u001b[0;34m\u001b[0m\u001b[0;34m\u001b[0m\u001b[0m\n\u001b[1;32m      6\u001b[0m     sns.countplot(y=df[categorical_var[p]], data=df, \n",
      "\u001b[0;31mTypeError\u001b[0m: 'int' object is not iterable"
     ]
    },
    {
     "data": {
      "text/plain": [
       "<Figure size 1080x1440 with 0 Axes>"
      ]
     },
     "metadata": {},
     "output_type": "display_data"
    }
   ],
   "source": [
    "plt.figure(figsize=(15,20))\n",
    "plt.subplots_adjust(hspace=0.2, wspace=0.3)\n",
    "i=0\n",
    "for i, categorical_var in len(categorical_var:\n",
    "    plt.subplot(3, 2, i+1)\n",
    "    sns.countplot(y=categorical_var, data=df, \n",
    "                  order=df[categorical_var].value_counts().index)\n",
    "    plt.title(categorical_var)\n",
    "    \n",
    "plt.show()"
   ]
  },
  {
   "cell_type": "markdown",
   "id": "f908fa4b-e03e-4d3d-8b32-b55bc0f9b24e",
   "metadata": {},
   "source": [
    "In summary:\n",
    " - We can now graphically see that as seen in the table before the most common place type is coffee shop followed by cafe and with a much lower frequency espresso bar\n",
    " - In our Delivery variable we see that almost half the shops doesn't offer this service, we have a lot of unknown values and there are not many shops that offer the service\n",
    " - We also see that 70% of the shops offer Dine in option\n",
    " - Also around 70% offer Takeout option"
   ]
  },
  {
   "cell_type": "markdown",
   "id": "652d1406-264b-4225-b5bf-47c5a57756b4",
   "metadata": {},
   "source": [
    "As normally the demographics of a country is very important to consider in order to take actions we will look into this"
   ]
  },
  {
   "cell_type": "code",
   "execution_count": null,
   "id": "cd734e27-f98b-488b-a102-9631eaf904cd",
   "metadata": {},
   "outputs": [],
   "source": [
    "df.groupby('Region')[['Rating','Reviews']].mean().round(2).sort_values(by='Rating',ascending=False)\n"
   ]
  },
  {
   "cell_type": "markdown",
   "id": "fe76519c-5f50-4b63-b056-027cac91587e",
   "metadata": {},
   "source": [
    "We see that Kiev that is Ukraine's capital has the highest ratings and a good number of reviews which makes a lot of sense since the capital is the most important city of a country an usually have the largest population"
   ]
  },
  {
   "cell_type": "markdown",
   "id": "e5f5997b-622e-4b31-af19-fbb750b4a6c0",
   "metadata": {},
   "source": [
    "We can also see that having a high rating does not alway means having a lot of reviews\n",
    "\n",
    "For example:\n",
    " - Mariupol have a high ranking but also has the lowest number of reviews\n",
    "  - Lviv is the fourth highest ranked region but is the only on top in terms of reviews number"
   ]
  },
  {
   "cell_type": "markdown",
   "id": "ee493ed8-2e2a-4633-992c-27b08b5f62c7",
   "metadata": {},
   "source": [
    "# Hypotesis Tranformations"
   ]
  },
  {
   "cell_type": "markdown",
   "id": "8b6b01cd-f0e2-4f54-a766-14b25bfdb80f",
   "metadata": {},
   "source": [
    "We are going to use the kmeans algorithm so we need to follow some tranformations\n",
    " - All data must follow a normal distribution\n",
    " - It is very propense to outliers"
   ]
  },
  {
   "cell_type": "markdown",
   "id": "05fa3bcd-c759-43d3-aa1e-b4f7cef4bd8d",
   "metadata": {},
   "source": [
    "The first thing we are going to do is to check the outliers"
   ]
  },
  {
   "cell_type": "code",
   "execution_count": null,
   "id": "c0d8fa1f-604b-4b32-9344-3b39a6213d06",
   "metadata": {},
   "outputs": [],
   "source": [
    "review_top = df['Reviews'].mean()+df['Reviews'].std()*3\n",
    "df[df['Reviews'] > review_top]"
   ]
  },
  {
   "cell_type": "markdown",
   "id": "609b6b6e-2621-4ce3-9ef9-2b874728d34d",
   "metadata": {},
   "source": [
    "We will also check if there are some in the lower part of our graphic"
   ]
  },
  {
   "cell_type": "code",
   "execution_count": null,
   "id": "52a7dbd7-80ed-4fce-902a-f6d486d7bca1",
   "metadata": {},
   "outputs": [],
   "source": [
    "review_low = df['Reviews'].mean()-df['Reviews'].std()*3\n",
    "df[df['Reviews'] < review_low]"
   ]
  },
  {
   "cell_type": "markdown",
   "id": "60cfeb4d-e965-4c2e-a161-ff7007676090",
   "metadata": {},
   "source": [
    "Now we will delete them in order to fullfill the hypothesis"
   ]
  },
  {
   "cell_type": "code",
   "execution_count": null,
   "id": "996394cd-953f-47a4-aeb4-e704ffe7d731",
   "metadata": {},
   "outputs": [],
   "source": [
    "df = df.drop(100,axis=0)"
   ]
  },
  {
   "cell_type": "markdown",
   "id": "f20c15be-f378-409d-8708-e63d871e7561",
   "metadata": {},
   "source": [
    "Now we will check in the Rating variable"
   ]
  },
  {
   "cell_type": "code",
   "execution_count": null,
   "id": "274626fa-634e-4f71-8f88-25fc273a4461",
   "metadata": {},
   "outputs": [],
   "source": [
    "rating_top = df['Rating'].mean()+df['Rating'].std()*3\n",
    "df[df['Rating'] > rating_top]"
   ]
  },
  {
   "cell_type": "code",
   "execution_count": null,
   "id": "b8f19fa7-e50d-42c9-8525-79a2e097c8b4",
   "metadata": {},
   "outputs": [],
   "source": [
    "rating_low = df['Rating'].mean()-df['Rating'].std()*3\n",
    "df[df['Rating'] < rating_low]"
   ]
  },
  {
   "cell_type": "markdown",
   "id": "b7f81a92-8a29-4bac-8a64-5f66e4c2abf8",
   "metadata": {},
   "source": [
    "As we did before we drop these rows"
   ]
  },
  {
   "cell_type": "code",
   "execution_count": null,
   "id": "b19433e6-049b-4cb3-a2fb-b6a9a5fc2f79",
   "metadata": {},
   "outputs": [],
   "source": [
    "df = df.drop(133,axis=0)\n",
    "df = df.drop(160,axis=0)\n",
    "df = df.drop(188,axis=0)\n",
    "df = df.drop(190,axis=0)"
   ]
  },
  {
   "cell_type": "code",
   "execution_count": null,
   "id": "6bb28e38-945b-44d8-9fc0-caf0f644751d",
   "metadata": {},
   "outputs": [],
   "source": [
    "X_cuants = df[['Rating','Reviews']].copy()"
   ]
  },
  {
   "cell_type": "markdown",
   "id": "586031cb-e878-455f-830f-c0f9f59ce822",
   "metadata": {},
   "source": [
    "Now we will follow to the second part of our hypothesis, it should follow a normal distribution so we will standardize it"
   ]
  },
  {
   "cell_type": "code",
   "execution_count": null,
   "id": "f36cb7ea-bcd5-44c2-bdae-6d1c050ffb78",
   "metadata": {},
   "outputs": [],
   "source": [
    "scaler=StandardScaler()\n",
    "scaler.fit(X_cuants)\n",
    "data_normalized = scaler.transform(X_cuants)\n",
    "data_normalized = pd.DataFrame(data=data_normalized, columns=X_cuants.columns)\n",
    "data_normalized.agg(['mean', 'std']).round()"
   ]
  },
  {
   "cell_type": "markdown",
   "id": "72934ace-1ac9-40fe-84e2-75f8811a3945",
   "metadata": {},
   "source": [
    "## Elbow method"
   ]
  },
  {
   "cell_type": "markdown",
   "id": "1b063414-0296-4879-8480-2650770643a7",
   "metadata": {},
   "source": [
    "In order to chose the best number of clusters we will use the elbow method which will help us determine this by ploting the inertia of the models"
   ]
  },
  {
   "cell_type": "code",
   "execution_count": null,
   "id": "6d2ad0b0-885c-4f25-a55b-2ce63e9a376a",
   "metadata": {},
   "outputs": [],
   "source": [
    "cluster_range = range(1,10)\n",
    "cluster_wss=[] \n",
    "for cluster in cluster_range:\n",
    "    model = KMeans(cluster)\n",
    "    model.fit(data_normalized)\n",
    "    cluster_wss.append(model.inertia_)"
   ]
  },
  {
   "cell_type": "code",
   "execution_count": null,
   "id": "cde96da4-85ad-4b41-ba86-7b8c5cc05015",
   "metadata": {},
   "outputs": [],
   "source": [
    "plt.figure(figsize=[10,6])\n",
    "plt.title('WSS Curve to find optimal cluster number')\n",
    "plt.xlabel('# groups')\n",
    "plt.ylabel('WSS')\n",
    "plt.plot(list(cluster_range),cluster_wss,marker='o')\n",
    "plt.show()"
   ]
  },
  {
   "cell_type": "markdown",
   "id": "2df7829a-820c-435c-9728-72d0c7a742e5",
   "metadata": {},
   "source": [
    "As we can see in the graphic 4 clusters is a good option as after this the slope decreases in a very slow way meaning there is not much difference"
   ]
  },
  {
   "cell_type": "markdown",
   "id": "75d1f358-c33b-44f3-92e0-e3f7f4733ca2",
   "metadata": {},
   "source": [
    "So now we create our model with this parameter"
   ]
  },
  {
   "cell_type": "code",
   "execution_count": null,
   "id": "798be1ec-299b-48cf-b798-dd0078cdf03c",
   "metadata": {},
   "outputs": [],
   "source": [
    "model = KMeans(n_clusters=4,random_state=0)\n",
    "model.fit(data_normalized)"
   ]
  },
  {
   "cell_type": "code",
   "execution_count": null,
   "id": "bcf1679a-b031-41d5-a4d0-40aaf113920d",
   "metadata": {},
   "outputs": [],
   "source": [
    "# Dataframe with originals and clusters\n",
    "df_total = df.copy()\n",
    "df_total['cluster']=model.predict(data_normalized)\n",
    "df_total[:5]"
   ]
  },
  {
   "cell_type": "code",
   "execution_count": null,
   "id": "4f45d82a-503b-4881-a4f1-9c76587fd69b",
   "metadata": {},
   "outputs": [],
   "source": [
    "df_total.cluster.value_counts().plot(kind='bar', figsize=(10,4))\n",
    "plt.title('Number of clients by group')\n",
    "plt.xlabel('Group')\n",
    "_ = plt.ylabel('Count')"
   ]
  },
  {
   "cell_type": "code",
   "execution_count": null,
   "id": "8a5471ac-7f22-4915-8e22-10b6b714d24b",
   "metadata": {},
   "outputs": [],
   "source": [
    "df_total.cluster.value_counts()"
   ]
  },
  {
   "cell_type": "code",
   "execution_count": null,
   "id": "c0607c62-266e-44f7-bbe9-b7e32fa9d5e5",
   "metadata": {},
   "outputs": [],
   "source": [
    "group_descriptive = df_total[['Rating','Reviews','cluster']].groupby(['cluster']).mean()\n",
    "group_descriptive"
   ]
  },
  {
   "cell_type": "markdown",
   "id": "ad5182d1-9b0a-42b2-b1b8-f9b0703a3c3c",
   "metadata": {},
   "source": [
    "We will now change this values into proportions to compare the clusters"
   ]
  },
  {
   "cell_type": "code",
   "execution_count": null,
   "id": "82e27080-f736-4b31-8a3d-57f2f1d529a2",
   "metadata": {},
   "outputs": [],
   "source": [
    "rating_range = group_descriptive['Rating'].max() - group_descriptive['Rating'].min()\n",
    "group_descriptive['rating_prop'] = (group_descriptive['Rating'] - group_descriptive['Rating'].min()) / rating_range\n",
    "review_range = group_descriptive['Reviews'].max() - group_descriptive['Reviews'].min()\n",
    "group_descriptive['review_prop'] = (group_descriptive['Reviews'] - group_descriptive['Reviews'].min()) / review_range\n",
    "group_descriptive"
   ]
  },
  {
   "cell_type": "code",
   "execution_count": null,
   "id": "3ac233d1-1542-497d-8ff8-92c60cdcbef2",
   "metadata": {},
   "outputs": [],
   "source": [
    "plt.subplots(figsize=(16, 6))\n",
    "sns.heatmap(group_descriptive[['rating_prop', 'review_prop']],cmap='Blues')\n",
    "plt.show()\n"
   ]
  },
  {
   "cell_type": "markdown",
   "id": "8a3543d3-cdd8-4eca-a884-6f6b9336fdca",
   "metadata": {},
   "source": [
    "We can see the different groups\n",
    " - Cluster 0 have  medium ratings and medium number of reviews\n",
    " - Cluster 1 also have medium rating but high number of reviews\n",
    " - Cluster 2 have low rating and me number of reviews\n",
    " - Cluster 3 have the highest rating but the less number of reviews"
   ]
  },
  {
   "cell_type": "markdown",
   "id": "e5a7ded1-8f1a-429c-9fbf-d570a98f3341",
   "metadata": {},
   "source": [
    "The most interesting cluster to analize will be cluster number 1 because it has a good rating and a high number of reviews"
   ]
  },
  {
   "cell_type": "markdown",
   "id": "0e89edd2-6176-491a-b4c5-d5447655418f",
   "metadata": {},
   "source": [
    "We from our graphic before we see that there are 31 shops in this cluster so we will now continue to analize them"
   ]
  },
  {
   "cell_type": "code",
   "execution_count": null,
   "id": "4004bff0-d337-4098-a190-4e859c6d9df3",
   "metadata": {},
   "outputs": [],
   "source": [
    "cluster_1 = df_total.loc[df_total['cluster'] == 1]\n",
    "cluster_1.head()"
   ]
  },
  {
   "cell_type": "code",
   "execution_count": null,
   "id": "f7228bc1-7748-4aa6-822e-11080a3cdbe5",
   "metadata": {},
   "outputs": [],
   "source": [
    "plt.figure(figsize=(15,20))\n",
    "plt.subplots_adjust(hspace=0.2, wspace=0.3)\n",
    "for i, categorical_var in enumerate(categorical_var):\n",
    "    plt.subplot(2, 2, i+1)\n",
    "    sns.countplot(y=categorical_var, data=df_total)\n",
    "    plt.title(categorical_var)\n",
    "    \n",
    "plt.show()"
   ]
  },
  {
   "cell_type": "code",
   "execution_count": null,
   "id": "6efee4b2-9b3c-494d-b4c4-f011ac5332da",
   "metadata": {},
   "outputs": [],
   "source": [
    "for i in enumerate(categorical_var):\n",
    "    print(i)\n",
    "    print(categorical_var)\n",
    "    "
   ]
  },
  {
   "cell_type": "code",
   "execution_count": null,
   "id": "10eb052e-5a43-4909-bbf2-0b5fdc379e5f",
   "metadata": {},
   "outputs": [],
   "source": [
    "categorical_var"
   ]
  },
  {
   "cell_type": "code",
   "execution_count": null,
   "id": "4b3ea91e-7821-4997-8959-a196537682f3",
   "metadata": {},
   "outputs": [],
   "source": []
  }
 ],
 "metadata": {
  "colab": {
   "name": "Welcome to DataCamp Workspaces.ipynb",
   "provenance": []
  },
  "kernelspec": {
   "display_name": "Python 3 (ipykernel)",
   "language": "python",
   "name": "python3"
  },
  "language_info": {
   "codemirror_mode": {
    "name": "ipython",
    "version": 3
   },
   "file_extension": ".py",
   "mimetype": "text/x-python",
   "name": "python",
   "nbconvert_exporter": "python",
   "pygments_lexer": "ipython3",
   "version": "3.8.10"
  }
 },
 "nbformat": 4,
 "nbformat_minor": 5
}
